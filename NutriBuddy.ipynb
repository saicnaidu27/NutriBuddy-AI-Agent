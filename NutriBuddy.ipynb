{
 "cells": [
  {
   "cell_type": "markdown",
   "id": "e0f827c4",
   "metadata": {},
   "source": [
    "# NutriBuddy - AI Nutrition Assistant\n",
    "This notebook demonstrates a simplified version of the NutriBuddy AI Nutrition Assistant project.\n",
    "It includes sample code for nutrition data lookup, basic query handling, and simulated AI responses.\n",
    "\n",
    "---"
   ]
  },
  {
   "cell_type": "markdown",
   "id": "cadcd44b",
   "metadata": {},
   "source": [
    "## Project Overview\n",
    "- NutriBuddy is an AI-powered nutrition assistant.\n",
    "- Built on IBM Watsonx Agent Lab with Granite model.\n",
    "- Integrates Google Search for up-to-date nutrition info.\n",
    "- Provides meal analysis, dietary suggestions, and nutritional insights.\n",
    "\n",
    "This notebook simulates key components for demonstration purposes."
   ]
  },
  {
   "cell_type": "markdown",
   "id": "a4ea33a1",
   "metadata": {},
   "source": [
    "## Sample Nutrition Data\n",
    "Let's create a small sample nutrition database as a Python dictionary."
   ]
  },
  {
   "cell_type": "code",
   "execution_count": null,
   "id": "fa3db878",
   "metadata": {},
   "outputs": [],
   "source": [
    "nutrition_db = {\n",
    "    'apple': {'calories': 52, 'protein_g': 0.3, 'carbs_g': 14, 'fat_g': 0.2},\n",
    "    'banana': {'calories': 89, 'protein_g': 1.1, 'carbs_g': 23, 'fat_g': 0.3},\n",
    "    'chicken breast': {'calories': 165, 'protein_g': 31, 'carbs_g': 0, 'fat_g': 3.6},\n",
    "    'rice': {'calories': 130, 'protein_g': 2.7, 'carbs_g': 28, 'fat_g': 0.3}\n",
    "}\n",
    "\n",
    "nutrition_db"
   ]
  },
  {
   "cell_type": "markdown",
   "id": "adf69f84",
   "metadata": {},
   "source": [
    "## Function: Get Nutrition Info\n",
    "This function returns nutrition information for a given food item."
   ]
  },
  {
   "cell_type": "code",
   "execution_count": null,
   "id": "6df3a323",
   "metadata": {},
   "outputs": [],
   "source": [
    "def get_nutrition_info(food_item):\n",
    "    food_item = food_item.lower()\n",
    "    if food_item in nutrition_db:\n",
    "        return nutrition_db[food_item]\n",
    "    else:\n",
    "        return f\"Sorry, nutrition data for '{food_item}' is not available.\"\n",
    "\n",
    "# Example usage\n",
    "get_nutrition_info('Apple')"
   ]
  },
  {
   "cell_type": "markdown",
   "id": "cac7dea3",
   "metadata": {},
   "source": [
    "## Simulated AI Query Handler\n",
    "This function simulates how NutriBuddy might process user queries about nutrition."
   ]
  },
  {
   "cell_type": "code",
   "execution_count": null,
   "id": "cfe3ddf2",
   "metadata": {},
   "outputs": [],
   "source": [
    "def nutri_query(query):\n",
    "    query = query.lower()\n",
    "    if 'calories' in query:\n",
    "        # extract food item\n",
    "        for food in nutrition_db.keys():\n",
    "            if food in query:\n",
    "                cal = nutrition_db[food]['calories']\n",
    "                return f\"A {food} contains approximately {cal} calories.\"\n",
    "        return \"Sorry, I couldn't find the food item in my database.\"\n",
    "    elif 'protein' in query:\n",
    "        for food in nutrition_db.keys():\n",
    "            if food in query:\n",
    "                prot = nutrition_db[food]['protein_g']\n",
    "                return f\"A {food} has about {prot} grams of protein.\"\n",
    "        return \"Sorry, I couldn't find the food item in my database.\"\n",
    "    else:\n",
    "        return \"I can help you with calories and protein info. Try asking about them!\"\n",
    "\n",
    "# Example query\n",
    "nutri_query('How many calories are in chicken breast?')"
   ]
  },
  {
   "cell_type": "markdown",
   "id": "15dacb42",
   "metadata": {},
   "source": [
    "## Placeholder: Google Search Integration\n",
    "In the real NutriBuddy project, live Google Search API calls are used to fetch updated nutrition data.\n",
    "Here, we simulate this with a mock function."
   ]
  },
  {
   "cell_type": "code",
   "execution_count": null,
   "id": "7472ad23",
   "metadata": {},
   "outputs": [],
   "source": [
    "def google_search_mock(query):\n",
    "    # This is a mock function.\n",
    "    # In actual implementation, this would call Google Search API.\n",
    "    return f\"Simulated search results for: {query}\"\n",
    "\n",
    "# Example usage\n",
    "google_search_mock('nutritional benefits of spinach')"
   ]
  },
  {
   "cell_type": "markdown",
   "id": "5cb89cb1",
   "metadata": {},
   "source": [
    "## Next Steps / Deployment Instructions\n",
    "- Connect this notebook code to the IBM Watsonx Agent Lab environment.\n",
    "- Replace mock functions with real API calls.\n",
    "- Extend nutrition database or link to live datasets.\n",
    "- Add user interface for interaction (e.g., chatbot UI).\n",
    "- Deploy and test the AI Nutrition Assistant.\n",
    "\n",
    "---\n",
    "Created by Sai Charan Naidu P | 2025"
   ]
  }
 ],
 "metadata": {},
 "nbformat": 4,
 "nbformat_minor": 5
}
